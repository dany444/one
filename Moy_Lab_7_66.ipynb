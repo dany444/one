{
  "nbformat": 4,
  "nbformat_minor": 0,
  "metadata": {
    "colab": {
      "provenance": [],
      "authorship_tag": "ABX9TyMe/iKCTSo5fBzbN5ZIHJb4",
      "include_colab_link": true
    },
    "kernelspec": {
      "name": "python3",
      "display_name": "Python 3"
    },
    "language_info": {
      "name": "python"
    }
  },
  "cells": [
    {
      "cell_type": "markdown",
      "metadata": {
        "id": "view-in-github",
        "colab_type": "text"
      },
      "source": [
        "<a href=\"https://colab.research.google.com/github/dany444/one/blob/main/Moy_Lab_7_66.ipynb\" target=\"_parent\"><img src=\"https://colab.research.google.com/assets/colab-badge.svg\" alt=\"Open In Colab\"/></a>"
      ]
    },
    {
      "cell_type": "code",
      "source": [
        "import numpy as np\n",
        "import matplotlib.pyplot as plt\n",
        "\n",
        "# Функции активации\n",
        "def relu(x):\n",
        "    return np.maximum(0, x)\n",
        "\n",
        "def drelu(x):\n",
        "    return np.where(x > 0, 1, 0)\n",
        "\n",
        "# Загрузка данных\n",
        "def load_dataset():\n",
        "    with np.load(\"custom.npz\") as f:\n",
        "        x_train = f[\"x_train\"].astype(\"float32\") / 255  # Нормализация данных\n",
        "        x_train = np.reshape(x_train, (x_train.shape[0], -1))\n",
        "        y_train = f[\"y_train\"]\n",
        "        y_train = np.eye(10)[y_train]  # Преобразование меток в one-hot\n",
        "    return x_train, y_train\n",
        "\n",
        "# Нейронная сеть\n",
        "class SimpleNN:\n",
        "    def __init__(self, input_size, hidden_size, output_size, learning_rate=0.001, lambda_reg=0.01):\n",
        "        self.w1 = np.random.randn(hidden_size, input_size) * 0.01 # Инициализация с меньшими весами\n",
        "        self.b1 = np.zeros((hidden_size, 1))  # Инициализация смещения для первого слоя\n",
        "        self.w2 = np.random.randn(output_size, hidden_size) * 0.01 # Инициализация с меньшими весами\n",
        "        self.b2 = np.zeros((output_size, 1))  # Инициализация смещения для второго слоя\n",
        "        self.learning_rate = learning_rate\n",
        "        self.lambda_reg = lambda_reg\n",
        "\n",
        "    def forward(self, x):\n",
        "        self.l1 = np.dot(self.w1, x) + self.b1\n",
        "        self.y = relu(self.l1)\n",
        "        self.l2 = np.dot(self.w2, self.y) + self.b2\n",
        "        self.out = relu(self.l2)  # Можно использовать softmax для классификации\n",
        "        return self.out\n",
        "\n",
        "    def backward(self, x, target):\n",
        "        e = self.out - target\n",
        "\n",
        "        delta2 = e * drelu(self.l2)  # Градиент на выходе\n",
        "        grad_w2 = np.dot(delta2, self.y.T) + self.lambda_reg * self.w2  # Градиент для w2\n",
        "        grad_b2 = np.sum(delta2, axis=1, keepdims=True) # Градиент для b2\n",
        "\n",
        "        delta1 = np.dot(self.w2.T, delta2) * drelu(self.l1) # Градиент для скрытого слоя\n",
        "        grad_w1 = np.dot(delta1, x.T) + self.lambda_reg * self.w1  # Градиент для w1\n",
        "        grad_b1 = np.sum(delta1, axis=1, keepdims=True) # Градиент для b1\n",
        "\n",
        "        # Обновление весов и смещений\n",
        "        self.w2 -= self.learning_rate * grad_w2\n",
        "        self.b2 -= self.learning_rate * grad_b2\n",
        "        self.w1 -= self.learning_rate * grad_w1\n",
        "        self.b1 -= self.learning_rate * grad_b1\n",
        "\n",
        "    def train(self, x_train, y_train, epochs=5, batch_size=32):\n",
        "        for epoch in range(epochs):\n",
        "            print(f'Epoch {epoch + 1}/{epochs}')\n",
        "            indices = np.arange(x_train.shape[0])\n",
        "            np.random.shuffle(indices)  # Перемешивание данных\n",
        "            for start in range(0, x_train.shape[0], batch_size):\n",
        "                end = min(start + batch_size, x_train.shape[0])\n",
        "                batch_indices = indices[start:end]\n",
        "\n",
        "                for i in batch_indices:\n",
        "                    img = x_train[i].reshape(-1, 1)\n",
        "                    value = y_train[i].reshape(-1, 1)\n",
        "\n",
        "                    self.forward(img)\n",
        "                    self.backward(img, value)\n",
        "# Основной код\n",
        "input_data, target_data = load_dataset()\n",
        "nn = SimpleNN(input_size=784, hidden_size=50, output_size=10)\n",
        "\n",
        "# Обучение модели\n",
        "nn.train(input_data, target_data, epochs=5, batch_size=32)\n",
        "\n",
        "# Тестирование на случайном изображении\n",
        "i = np.random.randint(0, input_data.shape[0])\n",
        "tempimg = input_data[i]\n",
        "tempvalue = target_data[i]\n",
        "\n",
        "img = tempimg.reshape(-1, 1)\n",
        "out = nn.forward(img)\n",
        "\n",
        "plt.imshow(tempimg.reshape(28, 28), cmap=\"Greys\")\n",
        "plt.title(f'Predicted: {out.argmax()}')\n",
        "plt.show()\n",
        "\n",
        "print(out)\n"
      ],
      "metadata": {
        "colab": {
          "base_uri": "https://localhost:8080/",
          "height": 712
        },
        "id": "8jLLtKF00BR1",
        "outputId": "45d4c1cf-24e7-495e-f1fc-1a474ed204ea"
      },
      "execution_count": 14,
      "outputs": [
        {
          "output_type": "stream",
          "name": "stdout",
          "text": [
            "Epoch 1/5\n",
            "Epoch 2/5\n",
            "Epoch 3/5\n",
            "Epoch 4/5\n",
            "Epoch 5/5\n"
          ]
        },
        {
          "output_type": "display_data",
          "data": {
            "text/plain": [
              "<Figure size 640x480 with 1 Axes>"
            ],
            "image/png": "[encoded data removed]"
          },
          "metadata": {}
        },
        {
          "output_type": "stream",
          "name": "stdout",
          "text": [
            "[[0.        ]\n",
            " [0.        ]\n",
            " [0.        ]\n",
            " [0.        ]\n",
            " [0.        ]\n",
            " [0.98949124]\n",
            " [0.        ]\n",
            " [0.        ]\n",
            " [0.        ]\n",
            " [0.        ]]\n"
          ]
        }
      ]
    },
    {
      "cell_type": "code",
      "source": [
        "import numpy as np\n",
        "from tensorflow.keras.datasets import mnist\n",
        "\n",
        "# Загрузка набора данных MNIST\n",
        "(x_train, y_train), _ = mnist.load_data()\n",
        "\n",
        "# Сохранение данных в файл custom.npz\n",
        "np.savez(\"custom.npz\", x_train=x_train, y_train=y_train)\n"
      ],
      "metadata": {
        "id": "mqF23scr9coD",
        "colab": {
          "base_uri": "https://localhost:8080/"
        },
        "outputId": "503e1551-84b3-439c-a6c0-3e29b8a7acb5"
      },
      "execution_count": 1,
      "outputs": [
        {
          "output_type": "stream",
          "name": "stdout",
          "text": [
            "Downloading data from https://storage.googleapis.com/tensorflow/tf-keras-datasets/mnist.npz\n",
            "\u001b[1m11490434/11490434\u001b[0m \u001b[32m━━━━━━━━━━━━━━━━━━━━\u001b[0m\u001b[37m\u001b[0m \u001b[1m0s\u001b[0m 0us/step\n"
          ]
        }
      ]
    },
    {
      "cell_type": "code",
      "source": [
        "#нейронка цифры\n",
        "import numpy as np\n",
        "import matplotlib.pyplot as plt\n",
        "\n",
        "\n",
        "def f(x):\n",
        "    return 1 / (1 + np.exp(-x))\n",
        "\n",
        "def df(x):\n",
        "    return f(x) * (1 - f(x))\n",
        "\n",
        "def drelu(x):\n",
        "    return np.heaviside(x, 0)\n",
        "\n",
        "def load_dataset():\n",
        "    with np.load(\"custom.npz\") as f:\n",
        "        x_train = f[\"x_train\"].astype(\"float32\") / 255 #оттенки серого в интервале от 0 до 255]\n",
        "        x_train = np.reshape(\n",
        "            x_train, (x_train.shape[0], x_train.shape[1] * x_train.shape[1])\n",
        "        )\n",
        "        y_train = f[\"y_train\"]\n",
        "        y_train = np.eye(10)[y_train]\n",
        "\n",
        "        return x_train, y_train\n",
        "\n",
        "\n",
        "\n",
        "input, values = load_dataset()\n",
        "\n",
        "\n",
        "w1 = np.random.uniform(-0.5, 0.5, (50, 784))\n",
        "w2 = np.random.uniform(-0.5, 0.5, (10, 50))\n",
        "\n",
        "lmb = 0.0001\n",
        "\n",
        "for i in range(5):\n",
        "    print(i)\n",
        "    #прямой\n",
        "    for img, value in zip(input, values):\n",
        "        img = np.reshape(img, (-1, 1))\n",
        "        value = np.reshape(value, (-1, 1))\n",
        "\n",
        "        l1 = np.dot(w1, img)\n",
        "        y = f(l1)\n",
        "        l2 = np.dot(w2, y)\n",
        "        out = f(l2)\n",
        "        #обратный\n",
        "        e = out - value\n",
        "        delta2 = e - df(out)\n",
        "        w2 = w2 - lmb * np.dot(delta2, y.T)\n",
        "        delta1 = np.dot(w2.T, delta2) * drelu(y)\n",
        "        w1 = w1 - lmb * np.dot(delta1, img.T)\n",
        "\n",
        "i = np.random.randint(0, 60000)\n",
        "tempimg = input[i]\n",
        "tempvalue = values[i]\n",
        "\n",
        "img = np.reshape(tempimg, (-1, 1))\n",
        "l1 = np.dot(w1, img)\n",
        "y = f(l1)\n",
        "l2 = np.dot(w2, y)\n",
        "out = f(l2)\n",
        "\n",
        "plt.imshow(tempimg.reshape(28, 28), cmap=\"Greys\")\n",
        "plt.title(out.argmax())\n",
        "plt.show()\n",
        "\n",
        "print(out)\n"
      ],
      "metadata": {
        "id": "-lg6EVj6xoLV",
        "colab": {
          "base_uri": "https://localhost:8080/",
          "height": 712
        },
        "outputId": "0e107d02-9a6c-4317-acaf-9f6ffa04c120"
      },
      "execution_count": 2,
      "outputs": [
        {
          "output_type": "stream",
          "name": "stdout",
          "text": [
            "0\n",
            "1\n",
            "2\n",
            "3\n",
            "4\n"
          ]
        },
        {
          "output_type": "display_data",
          "data": {
            "text/plain": [
              "<Figure size 640x480 with 1 Axes>"
            ],
            "image/png": "[encoded data removed]"
          },
          "metadata": {}
        },
        {
          "output_type": "stream",
          "name": "stdout",
          "text": [
            "[[0.40467089]\n",
            " [0.19544378]\n",
            " [0.91504171]\n",
            " [0.38178217]\n",
            " [0.14766369]\n",
            " [0.09538043]\n",
            " [0.50526293]\n",
            " [0.3556995 ]\n",
            " [0.179371  ]\n",
            " [0.28854671]]\n"
          ]
        }
      ]
    },
    {
      "cell_type": "code",
      "source": [
        "#нейронка цифры\n",
        "import numpy as np\n",
        "import matplotlib.pyplot as plt\n",
        "\n",
        "#сигмоидная функция\n",
        "def f(x):\n",
        "    return 1 / (1 + np.exp(-x)) #Это сигмоидная функция, которая используется для активации нейронов. Она ограничивает выход нейрона значениями от 0 до 1.\n",
        "\n",
        "def df(x):\n",
        "    return f(x) * (1 - f(x)) #Это производная сигмоидной функции, которая понадобится для обратного распространения ошибки при обновлении весов.\n",
        "\n",
        "#активация\n",
        "def relu(x):\n",
        "    return np.maximum(x, 0) #Это функция активации ReLU (Rectified Linear Unit), которая возвращает максимальное значение между 0 и входным значением.\n",
        "#функцией максимального значения\n",
        "def drelu(x):\n",
        "    return np.heaviside(x, 0) #Производная функции ReLU. Возвращает 1, если входное значение больше 0, и 0, если меньше.\n",
        "\n",
        "#MNIST грузит\n",
        "def load_dataset(): #Эта функция загружает набор данных из файла custom.npz\n",
        "    with np.load(\"custom.npz\") as f: #Загружает файл данных с расширением .npz\n",
        "        x_train = f[\"x_train\"].astype(\"float32\") / 255 #[оттенки серого в интервале от 0 до 255] #Изображения цифр. Они нормализуются делением на 255 (значения пикселей от 0 до 1).\n",
        "        x_train = np.reshape(\n",
        "            x_train, (x_train.shape[0], x_train.shape[1] * x_train.shape[1]) #Изменяет каждое изображение из двумерного массива (например, 28x28) в одномерный вектор (784), чтобы каждая строка представляла одно изображение в виде вектора.\n",
        "        )\n",
        "        y_train = f[\"y_train\"]\n",
        "        y_train = np.eye(10)[y_train] #Метки классов (цифры от 0 до 9). Используется преобразование в one-hot encoding, чтобы каждую метку представить как вектор длины 10, где только один элемент равен 1 (например, [0, 0, 1, 0, 0, 0, 0, 0, 0, 0] для цифры 2).\n",
        "#Например, метка 2 преобразуется в вектор [0, 0, 1, 0, 0, 0, 0, 0, 0, 0].\n",
        "        return x_train, y_train #Функция возвращает два массива: x_train (изображения в виде одномерных векторов) и y_train (one-hot метки). Эти данные готовы для использования в процессе обучения нейронной сети.\n",
        "\n",
        "\n",
        "#веса и скорость обучения\n",
        "\n",
        "input, values = load_dataset()\n",
        "\n",
        "\n",
        "w1 = np.random.uniform(-0.5, 0.5, (50, 784)) #Веса между входным слоем и скрытым слоем. Размерность: 50 нейронов в скрытом слое и 784 входных (28x28 пикселей).\n",
        "w2 = np.random.uniform(-0.5, 0.5, (10, 50)) #Веса между скрытым и выходным слоями. Размерность: 10 нейронов на выходе (по одному для каждой цифры) и 50 нейронов скрытого слоя.\n",
        "\n",
        "lmb = 0.0001 #Это коэффициент скорости обучения (learning rate), который контролирует величину изменений весов при обратном распространении.\n",
        "\n",
        "#cам цикл\n",
        "for i in range(5):\n",
        "    print(i)\n",
        "    #прямой проход\n",
        "    for img, value in zip(input, values): #Последовательно обрабатываются каждое изображение и его метка.\n",
        "        img = np.reshape(img, (-1, 1))\n",
        "        value = np.reshape(value, (-1, 1))\n",
        "\n",
        "        l1 = np.dot(w1, img) #Линейная комбинация входных данных с весами первого слоя (вход->скрытый слой).\n",
        "        y = f(l1) #Результат применения функции активации (сигмоида) к выходу скрытого слоя.\n",
        "        l2 = np.dot(w2, y) #Линейная комбинация результатов скрытого слоя и весов второго слоя (скрытый слой->выходной слой).\n",
        "        out = f(l2) #Применение сигмоиды ко второму слою, чтобы получить предсказание.\n",
        "        #обратный\n",
        "        e = out - value #Ошибка между предсказанным результатом сети и истинным значением (разность).\n",
        "        delta2 = e - df(out) # Градиент ошибки для второго слоя, умноженный на производную функции активации.\n",
        "        w2 = w2 - lmb * np.dot(delta2, y.T) #Обновление весов второго слоя с использованием скорости обучения и производной ошибки.\n",
        "        delta1 = np.dot(w2.T, delta2) * drelu(y) #Градиент для первого слоя, рассчитанный через обратное распространение ошибки.\n",
        "        w1 = w1 - lmb * np.dot(delta1, img.T) #Обновление весов первого слоя.\n",
        "\n",
        "#случайный набор\n",
        "i = np.random.randint(0, 60000)\n",
        "tempimg = input[i] #Выбирается случайное изображение из обучающего набора данных для тестирования.\n",
        "tempvalue = values[i]\n",
        "\n",
        "#проход\n",
        "img = np.reshape(tempimg, (-1, 1)) #Прямой проход: Изображение пропускается через сеть (вход->скрытый слой->выходной слой).\n",
        "l1 = np.dot(w1, img)\n",
        "y = f(l1)\n",
        "l2 = np.dot(w2, y)\n",
        "out = f(l2)\n",
        "\n",
        "plt.imshow(tempimg.reshape(28, 28), cmap=\"Greys\") #Отображение случайно выбранного изображения.\n",
        "plt.title(out.argmax()) #Вывод предсказанного класса (цифра) на основе максимального значения выходного слоя.\n",
        "plt.show() #Печатает вектор предсказания, показывающий вероятности для каждого из 10 классов.\n",
        "\n",
        "print(out)\n"
      ],
      "metadata": {
        "colab": {
          "base_uri": "https://localhost:8080/",
          "height": 712
        },
        "id": "as2CGvQ8uemV",
        "outputId": "98be31f5-2948-4d73-c7b5-7f75b68d3c74"
      },
      "execution_count": null,
      "outputs": [
        {
          "output_type": "stream",
          "name": "stdout",
          "text": [
            "0\n",
            "1\n",
            "2\n",
            "3\n",
            "4\n"
          ]
        },
        {
          "output_type": "display_data",
          "data": {
            "text/plain": [
              "<Figure size 640x480 with 1 Axes>"
            ],
            "image/png": "[encoded data removed]"
          },
          "metadata": {}
        },
        {
          "output_type": "stream",
          "name": "stdout",
          "text": [
            "[[0.31874112]\n",
            " [0.3183667 ]\n",
            " [0.60851276]\n",
            " [0.51391092]\n",
            " [0.11445974]\n",
            " [0.37482756]\n",
            " [0.60431616]\n",
            " [0.34757468]\n",
            " [0.15544683]\n",
            " [0.46155735]]\n"
          ]
        }
      ]
    },
    {
      "cell_type": "code",
      "source": [
        "import numpy as np\n",
        "from tensorflow.keras.datasets import mnist\n",
        "\n",
        "# Загрузка набора данных MNIST\n",
        "(x_train, y_train), _ = mnist.load_data()\n",
        "\n",
        "# Сохранение данных в файл custom.npz\n",
        "np.savez(\"custom.npz\", x_train=x_train, y_train=y_train)\n"
      ],
      "metadata": {
        "id": "uvgg7Pu8t5VO",
        "colab": {
          "base_uri": "https://localhost:8080/"
        },
        "outputId": "c914097e-18b8-418b-9110-267096571a0d"
      },
      "execution_count": null,
      "outputs": [
        {
          "output_type": "stream",
          "name": "stdout",
          "text": [
            "Downloading data from https://storage.googleapis.com/tensorflow/tf-keras-datasets/mnist.npz\n",
            "\u001b[1m11490434/11490434\u001b[0m \u001b[32m━━━━━━━━━━━━━━━━━━━━\u001b[0m\u001b[37m\u001b[0m \u001b[1m0s\u001b[0m 0us/step\n"
          ]
        }
      ]
    }
  ]
}